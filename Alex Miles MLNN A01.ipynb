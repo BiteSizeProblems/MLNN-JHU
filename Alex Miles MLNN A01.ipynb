{
 "cells": [
  {
   "cell_type": "code",
   "execution_count": 85,
   "id": "50b85cdb",
   "metadata": {},
   "outputs": [],
   "source": [
    "import pandas as pd\n",
    "import matplotlib.pyplot as plt\n",
    "import numpy as np"
   ]
  },
  {
   "cell_type": "markdown",
   "id": "b94f7738",
   "metadata": {},
   "source": [
    "**Alex Miles: Machine Learning & Neural Networks ~ Assignment 01**"
   ]
  },
  {
   "cell_type": "code",
   "execution_count": 86,
   "id": "7cc4ca61",
   "metadata": {},
   "outputs": [
    {
     "data": {
      "text/html": [
       "<div>\n",
       "<style scoped>\n",
       "    .dataframe tbody tr th:only-of-type {\n",
       "        vertical-align: middle;\n",
       "    }\n",
       "\n",
       "    .dataframe tbody tr th {\n",
       "        vertical-align: top;\n",
       "    }\n",
       "\n",
       "    .dataframe thead th {\n",
       "        text-align: right;\n",
       "    }\n",
       "</style>\n",
       "<table border=\"1\" class=\"dataframe\">\n",
       "  <thead>\n",
       "    <tr style=\"text-align: right;\">\n",
       "      <th></th>\n",
       "      <th>Birthplace</th>\n",
       "      <th>Census_night_population_count</th>\n",
       "      <th>Census_usually_resident_population_count</th>\n",
       "    </tr>\n",
       "  </thead>\n",
       "  <tbody>\n",
       "    <tr>\n",
       "      <th>94</th>\n",
       "      <td>North Africa and the Middle East (not further ...</td>\n",
       "      <td>0</td>\n",
       "      <td>0</td>\n",
       "    </tr>\n",
       "    <tr>\n",
       "      <th>41</th>\n",
       "      <td>Western Europe (not further defined)</td>\n",
       "      <td>0</td>\n",
       "      <td>0</td>\n",
       "    </tr>\n",
       "    <tr>\n",
       "      <th>32</th>\n",
       "      <td>North-West Europe (not further defined)</td>\n",
       "      <td>0</td>\n",
       "      <td>0</td>\n",
       "    </tr>\n",
       "    <tr>\n",
       "      <th>31</th>\n",
       "      <td>Antarctica</td>\n",
       "      <td>0</td>\n",
       "      <td>0</td>\n",
       "    </tr>\n",
       "    <tr>\n",
       "      <th>30</th>\n",
       "      <td>Polynesia (excludes Hawaii) nec</td>\n",
       "      <td>0</td>\n",
       "      <td>0</td>\n",
       "    </tr>\n",
       "    <tr>\n",
       "      <th>...</th>\n",
       "      <td>...</td>\n",
       "      <td>...</td>\n",
       "      <td>...</td>\n",
       "    </tr>\n",
       "    <tr>\n",
       "      <th>136</th>\n",
       "      <td>China, People's Republic of</td>\n",
       "      <td>141387</td>\n",
       "      <td>132906</td>\n",
       "    </tr>\n",
       "    <tr>\n",
       "      <th>35</th>\n",
       "      <td>England</td>\n",
       "      <td>223893</td>\n",
       "      <td>210915</td>\n",
       "    </tr>\n",
       "    <tr>\n",
       "      <th>5</th>\n",
       "      <td>New Zealand</td>\n",
       "      <td>3378357</td>\n",
       "      <td>3370122</td>\n",
       "    </tr>\n",
       "    <tr>\n",
       "      <th>276</th>\n",
       "      <td>Total stated</td>\n",
       "      <td>4733061</td>\n",
       "      <td>4641897</td>\n",
       "    </tr>\n",
       "    <tr>\n",
       "      <th>277</th>\n",
       "      <td>Total</td>\n",
       "      <td>4793358</td>\n",
       "      <td>4699755</td>\n",
       "    </tr>\n",
       "  </tbody>\n",
       "</table>\n",
       "<p>278 rows × 3 columns</p>\n",
       "</div>"
      ],
      "text/plain": [
       "                                            Birthplace  \\\n",
       "94   North Africa and the Middle East (not further ...   \n",
       "41                Western Europe (not further defined)   \n",
       "32             North-West Europe (not further defined)   \n",
       "31                                          Antarctica   \n",
       "30                     Polynesia (excludes Hawaii) nec   \n",
       "..                                                 ...   \n",
       "136                        China, People's Republic of   \n",
       "35                                             England   \n",
       "5                                          New Zealand   \n",
       "276                                       Total stated   \n",
       "277                                              Total   \n",
       "\n",
       "     Census_night_population_count  Census_usually_resident_population_count  \n",
       "94                               0                                         0  \n",
       "41                               0                                         0  \n",
       "32                               0                                         0  \n",
       "31                               0                                         0  \n",
       "30                               0                                         0  \n",
       "..                             ...                                       ...  \n",
       "136                         141387                                    132906  \n",
       "35                          223893                                    210915  \n",
       "5                          3378357                                   3370122  \n",
       "276                        4733061                                   4641897  \n",
       "277                        4793358                                   4699755  \n",
       "\n",
       "[278 rows x 3 columns]"
      ]
     },
     "execution_count": 86,
     "metadata": {},
     "output_type": "execute_result"
    }
   ],
   "source": [
    "df = pd.read_csv(\"C:/Users/alexa/OneDrive/Documents/birthplace_2018.csv\")\n",
    "df.filter(items=['Birthplace','Census_night_population_count', 'Census_usually_resident_population_count']).sort_values(by=['Census_usually_resident_population_count'])"
   ]
  },
  {
   "cell_type": "markdown",
   "id": "289bf6b9",
   "metadata": {},
   "source": [
    "How Many Birthplaces are listed in this dataset?"
   ]
  },
  {
   "cell_type": "code",
   "execution_count": 87,
   "id": "e13f9959",
   "metadata": {},
   "outputs": [
    {
     "data": {
      "text/plain": [
       "278"
      ]
     },
     "execution_count": 87,
     "metadata": {},
     "output_type": "execute_result"
    }
   ],
   "source": [
    "len(df['Birthplace'])"
   ]
  },
  {
   "cell_type": "code",
   "execution_count": 88,
   "id": "12cfa79c",
   "metadata": {},
   "outputs": [
    {
     "data": {
      "text/plain": [
       "15.0"
      ]
     },
     "execution_count": 88,
     "metadata": {},
     "output_type": "execute_result"
    }
   ],
   "source": [
    "np.percentile(df['Census_usually_resident_population_count'], 25)"
   ]
  },
  {
   "cell_type": "code",
   "execution_count": 89,
   "id": "558b8085",
   "metadata": {},
   "outputs": [
    {
     "data": {
      "text/plain": [
       "1462.5"
      ]
     },
     "execution_count": 89,
     "metadata": {},
     "output_type": "execute_result"
    }
   ],
   "source": [
    "np.percentile(df['Census_usually_resident_population_count'], 75)"
   ]
  },
  {
   "cell_type": "code",
   "execution_count": 90,
   "id": "2212b2bc",
   "metadata": {},
   "outputs": [
    {
     "data": {
      "text/plain": [
       "<matplotlib.collections.PathCollection at 0x19966dd45b0>"
      ]
     },
     "execution_count": 90,
     "metadata": {},
     "output_type": "execute_result"
    },
    {
     "data": {
      "image/png": "[encoded data removed]",
      "text/plain": [
       "<Figure size 432x288 with 1 Axes>"
      ]
     },
     "metadata": {
      "needs_background": "light"
     },
     "output_type": "display_data"
    }
   ],
   "source": [
    "\n",
    "data = df.query('Census_usually_resident_population_count < 3000000')\n",
    "data = data.query('Census_usually_resident_population_count > 50000')\n",
    "\n",
    "xdata = (data['Census_usually_resident_population_count'] / 1000000).sort_values()\n",
    "ydata = (data['Census_night_population_count'] / 1000000).sort_values()\n",
    "\n",
    "plt.scatter(xdata, ydata)"
   ]
  }
 ],
 "metadata": {
  "kernelspec": {
   "display_name": "Python 3 (ipykernel)",
   "language": "python",
   "name": "python3"
  },
  "language_info": {
   "codemirror_mode": {
    "name": "ipython",
    "version": 3
   },
   "file_extension": ".py",
   "mimetype": "text/x-python",
   "name": "python",
   "nbconvert_exporter": "python",
   "pygments_lexer": "ipython3",
   "version": "3.9.7"
  }
 },
 "nbformat": 4,
 "nbformat_minor": 5
}
