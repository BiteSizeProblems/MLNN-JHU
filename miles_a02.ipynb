{
 "cells": [
  {
   "cell_type": "code",
   "execution_count": 1,
   "id": "2a9bcf96",
   "metadata": {},
   "outputs": [],
   "source": [
    "import numpy as np\n",
    "import pandas as pd\n",
    "import scipy as sp\n",
    "import re"
   ]
  },
  {
   "cell_type": "code",
   "execution_count": 2,
   "id": "11f512b9",
   "metadata": {},
   "outputs": [],
   "source": [
    "%matplotlib inline\n",
    "import matplotlib.pyplot as plt\n",
    "plt.style.use('ggplot')"
   ]
  },
  {
   "cell_type": "code",
   "execution_count": 3,
   "id": "76670116",
   "metadata": {},
   "outputs": [
    {
     "name": "stdout",
     "output_type": "stream",
     "text": [
      "Overwriting hw_data.csv\n"
     ]
    }
   ],
   "source": [
    "%%file hw_data.csv\n",
    "id,sex,weight,height\n",
    "1,M,190,77\n",
    "2,F,120,70\n",
    "3,F,110,68\n",
    "4,M,150,72\n",
    "5,O,120,66\n",
    "6,M,120,60\n",
    "7,F,140,70"
   ]
  },
  {
   "cell_type": "markdown",
   "id": "411ca6c4",
   "metadata": {},
   "source": [
    "#### Python"
   ]
  },
  {
   "cell_type": "markdown",
   "id": "d70ba378",
   "metadata": {},
   "source": [
    "##### 1. Finish creating the following function that takes a list and returns the average value."
   ]
  },
  {
   "cell_type": "code",
   "execution_count": 4,
   "id": "7cc9f945",
   "metadata": {},
   "outputs": [
    {
     "data": {
      "text/plain": [
       "3.375"
      ]
     },
     "execution_count": 4,
     "metadata": {},
     "output_type": "execute_result"
    }
   ],
   "source": [
    "def average(my_list):\n",
    "    total = 0\n",
    "    average_value = 0\n",
    "    \n",
    "    for item in my_list:\n",
    "        total = total + item\n",
    "        \n",
    "    average_value = total/len(my_list)\n",
    "    \n",
    "    return(average_value)\n",
    "\n",
    "average([1,2,1,4,3,2,5,9])"
   ]
  },
  {
   "cell_type": "markdown",
   "id": "981b7800",
   "metadata": {},
   "source": [
    "##### 2. Using a Dictionary keep track of the count of numbers (or items) from a list"
   ]
  },
  {
   "cell_type": "code",
   "execution_count": 5,
   "id": "6d4ef46d",
   "metadata": {},
   "outputs": [
    {
     "data": {
      "text/plain": [
       "{1: 2, 2: 2, 4: 1, 3: 1, 5: 1, 9: 1}"
      ]
     },
     "execution_count": 5,
     "metadata": {},
     "output_type": "execute_result"
    }
   ],
   "source": [
    "def counts(my_list):\n",
    "    counts = dict()\n",
    "    \n",
    "    for item in my_list:\n",
    "        counts[item] = counts.setdefault(item, 0) + 1\n",
    "    \n",
    "    return counts\n",
    "\n",
    "counts([1,2,1,4,3,2,5,9])  "
   ]
  },
  {
   "cell_type": "markdown",
   "id": "7b882150",
   "metadata": {},
   "source": [
    "##### 3. Using the counts() function and the .split() function, return a dictionary of most occuring words from the following paragraph. Bonus, remove punctuation from words."
   ]
  },
  {
   "cell_type": "code",
   "execution_count": 6,
   "id": "b6793c45",
   "metadata": {},
   "outputs": [
    {
     "data": {
      "text/plain": [
       "{'for': 6,\n",
       " 'a': 15,\n",
       " 'or': 2,\n",
       " 'two': 2,\n",
       " 'she': 7,\n",
       " 'looking': 2,\n",
       " 'at': 7,\n",
       " 'the': 34,\n",
       " 'house': 2,\n",
       " 'and': 18,\n",
       " 'what': 2,\n",
       " 'to': 15,\n",
       " 'next': 2,\n",
       " 'when': 2,\n",
       " 'footman': 6,\n",
       " 'in': 9,\n",
       " 'livery': 3,\n",
       " 'came': 2,\n",
       " 'out': 5,\n",
       " 'of': 9,\n",
       " 'him': 3,\n",
       " 'be': 2,\n",
       " 'because': 3,\n",
       " 'he': 6,\n",
       " 'was': 8,\n",
       " 'by': 3,\n",
       " 'his': 6,\n",
       " 'face': 2,\n",
       " 'only': 2,\n",
       " 'door': 6,\n",
       " 'with': 2,\n",
       " 'it': 4,\n",
       " 'opened': 2,\n",
       " 'large': 3,\n",
       " 'eyes': 2,\n",
       " 'both': 2,\n",
       " 'alice': 5,\n",
       " 'had': 4,\n",
       " 'that': 3,\n",
       " 'all': 3,\n",
       " 'over': 2,\n",
       " 'their': 3,\n",
       " 'very': 2,\n",
       " 'know': 2,\n",
       " 'little': 2,\n",
       " 'wood': 2,\n",
       " 'fishfootman': 2,\n",
       " 'from': 3,\n",
       " 'great': 2,\n",
       " 'nearly': 2,\n",
       " 'as': 4,\n",
       " 'this': 4,\n",
       " 'other': 2,\n",
       " 'solemn': 2,\n",
       " 'tone': 2,\n",
       " 'duchess': 2,\n",
       " 'an': 2,\n",
       " 'invitation': 2,\n",
       " 'queen': 2,\n",
       " 'play': 2,\n",
       " 'croquet': 2,\n",
       " 'repeated': 2,\n",
       " 'same': 2,\n",
       " 'then': 3,\n",
       " 'so': 2,\n",
       " 'into': 3,\n",
       " 'her': 2,\n",
       " 'on': 4,\n",
       " 'up': 3,\n",
       " 'sky': 2,\n",
       " 'went': 2,\n",
       " 'no': 2,\n",
       " 'knocking': 2,\n",
       " 'said': 3,\n",
       " 'you': 6,\n",
       " 'are': 2,\n",
       " 'noise': 2,\n",
       " 'inside': 2,\n",
       " 'one': 2,\n",
       " 'could': 2,\n",
       " 'there': 2,\n",
       " 'if': 3,\n",
       " 'pieces': 2,\n",
       " 'am': 2,\n",
       " 'i': 4,\n",
       " 'get': 2,\n",
       " 'might': 3,\n",
       " 'but': 2,\n",
       " 'head': 2}"
      ]
     },
     "execution_count": 6,
     "metadata": {},
     "output_type": "execute_result"
    }
   ],
   "source": [
    "paragraph_text = '''\n",
    "For a minute or two she stood looking at the house, and wondering what to do next, when suddenly a footman in livery came running out of the wood—(she considered him to be a footman because he was in livery: otherwise, judging by his face only, she would have called him a fish)—and rapped loudly at the door with his knuckles. \n",
    "It was opened by another footman in livery, with a round face, and large eyes like a frog; and both footmen, Alice noticed, had powdered hair that curled all over their heads. She felt very curious to know what it was all about, and crept a little way out of the wood to listen. \n",
    "The Fish-Footman began by producing from under his arm a great letter, nearly as large as himself, and this he handed over to the other, saying, in a solemn tone, ‘For the Duchess. An invitation from the Queen to play croquet.’ The Frog-Footman repeated, in the same solemn tone, only changing the order of the words a little, ‘From the Queen. \n",
    "An invitation for the Duchess to play croquet.’ Then they both bowed low, and their curls got entangled together. Alice laughed so much at this, that she had to run back into the wood for fear of their hearing her; and when she next peeped out the Fish-Footman was gone, and the other was sitting on the ground near the door, staring stupidly up into the sky.\n",
    "Alice went timidly up to the door, and knocked. ‘There’s no sort of use in knocking,’ said the Footman, ‘and that for two reasons. First, because I’m on the same side of the door as you are; secondly, because they’re making such a noise inside, no one could possibly hear you.’ \n",
    "And certainly there was a most extraordinary noise going on within—a constant howling and sneezing, and every now and then a great crash, as if a dish or kettle had been broken to pieces. ‘Please, then,’ said Alice, ‘how am I to get in?’ \n",
    "‘There might be some sense in your knocking,’ the Footman went on without attending to her, ‘if we had the door between us. For instance, if you were inside, you might knock, and I could let you out, you know.’ He was looking up into the sky all the time he was speaking, and this Alice thought decidedly uncivil. \n",
    "‘But perhaps he can’t help it,’ she said to herself; ‘his eyes are so very nearly at the top of his head. But at any rate he might answer questions.—How am I to get in?’ she repeated, aloud. ‘I shall sit here,’ the Footman remarked, ‘till tomorrow—’ \n",
    "At this moment the door of the house opened, and a large plate came skimming out, straight at the Footman’s head: it just grazed his nose, and broke to pieces against one of the trees behind him.'''\n",
    "\n",
    "def mostOccuringWords(text):\n",
    "    f_text = re.sub(r'[^\\w\\s]','',text).lower()\n",
    "    f_text = counts(f_text.split())\n",
    "    \n",
    "    newDict = {key:val for key, val in f_text.items() if val > 1}\n",
    "    \n",
    "    return newDict\n",
    "    \n",
    "mostOccuringWords(paragraph_text)"
   ]
  },
  {
   "cell_type": "markdown",
   "id": "5cb2bcb6",
   "metadata": {},
   "source": [
    "##### 4. Read in a file and write each line from the file to a new file Title-ized"
   ]
  },
  {
   "cell_type": "markdown",
   "id": "84f8d7ca",
   "metadata": {},
   "source": [
    "This is the first line -> This Is The First Line\n",
    "\n",
    "Hint: There's a function to do this"
   ]
  },
  {
   "cell_type": "code",
   "execution_count": 7,
   "id": "5d4b25a0",
   "metadata": {},
   "outputs": [],
   "source": [
    "file = open(\"file.txt\",\"w\")\n",
    "\n",
    "file.write(\"this is the first line\")\n",
    "\n",
    "file.close()"
   ]
  },
  {
   "cell_type": "code",
   "execution_count": 9,
   "id": "6b1c692d",
   "metadata": {},
   "outputs": [],
   "source": [
    "file = open(\"file.txt\",\"w\")\n",
    "\n",
    "file.write(\"This Is The First Line\")\n",
    "\n",
    "file.close()"
   ]
  },
  {
   "cell_type": "markdown",
   "id": "c1f2e3fc",
   "metadata": {},
   "source": [
    "#### Numpy"
   ]
  },
  {
   "cell_type": "markdown",
   "id": "b5cec603",
   "metadata": {},
   "source": [
    "##### 1. Given a list, find the average using a numpy function."
   ]
  },
  {
   "cell_type": "code",
   "execution_count": 10,
   "id": "a5fb0f0d",
   "metadata": {},
   "outputs": [
    {
     "name": "stdout",
     "output_type": "stream",
     "text": [
      "3.375\n"
     ]
    }
   ],
   "source": [
    "simple_list = [1,2,1,4,3,2,5,9]\n",
    "\n",
    "print(np.mean(simple_list))"
   ]
  },
  {
   "cell_type": "markdown",
   "id": "95167bb1",
   "metadata": {},
   "source": [
    "##### 2. Given two lists of Heights and Weights of individual, calculate the BMI of those individuals, without writing a for-loop"
   ]
  },
  {
   "cell_type": "code",
   "execution_count": 11,
   "id": "61eed28b",
   "metadata": {},
   "outputs": [
    {
     "name": "stdout",
     "output_type": "stream",
     "text": [
      "[0.02246901 0.0251125  0.02043951 0.03195763 0.02884129]\n"
     ]
    }
   ],
   "source": [
    "heights = [174, 173, 173, 175, 171]\n",
    "weights = [88, 83, 92, 74, 77]\n",
    "\n",
    "new_heights=np.array(heights)\n",
    "new_weights=np.array(weights)\n",
    "\n",
    "bmi=new_heights / new_weights ** 2\n",
    "\n",
    "print(bmi)\n",
    "\n",
    "\n"
   ]
  },
  {
   "cell_type": "markdown",
   "id": "ca92dedb",
   "metadata": {},
   "source": [
    "##### 3. Create an array of length 20 filled with random values (between 0 to 1)"
   ]
  },
  {
   "cell_type": "code",
   "execution_count": 12,
   "id": "a3ba7eee",
   "metadata": {},
   "outputs": [
    {
     "data": {
      "text/plain": [
       "array([0.08537925, 0.47060413, 0.23338706, 0.05647529, 0.96886037,\n",
       "       0.27143926, 0.28268029, 0.87916386, 0.56766829, 0.42190346,\n",
       "       0.63509287, 0.25987312, 0.43127863, 0.46425531, 0.04417869,\n",
       "       0.73139452, 0.81708491, 0.54329309, 0.80557258, 0.23970624])"
      ]
     },
     "execution_count": 12,
     "metadata": {},
     "output_type": "execute_result"
    }
   ],
   "source": [
    "np.random.rand(20)"
   ]
  },
  {
   "cell_type": "markdown",
   "id": "b388de1b",
   "metadata": {},
   "source": [
    "##### Bonus. 1. Create an array with a large (>1000) length filled with random numbers from different distributions (normal, uniform, etc.). 2. Then, plot a histogram of these values."
   ]
  },
  {
   "cell_type": "code",
   "execution_count": 16,
   "id": "dad03fc6",
   "metadata": {},
   "outputs": [
    {
     "data": {
      "text/plain": [
       "Text(0.5, 1.0, 'Histogram')"
      ]
     },
     "execution_count": 16,
     "metadata": {},
     "output_type": "execute_result"
    },
    {
     "data": {
      "image/png": "[encoded data removed]",
      "text/plain": [
       "<Figure size 432x288 with 1 Axes>"
      ]
     },
     "metadata": {},
     "output_type": "display_data"
    }
   ],
   "source": [
    "array = np.array(np.random.rand(10000))\n",
    "np.histogram(array,bins = [0,0.25,0.5,0.75,1])\n",
    "hist,bins = np.histogram(array,bins = [0,0.25,0.5,0.75,1]) \n",
    "plt.hist(array)\n",
    "plt.title(\"Histogram\")"
   ]
  },
  {
   "cell_type": "markdown",
   "id": "e6d3899a",
   "metadata": {},
   "source": [
    "#### Pandas"
   ]
  },
  {
   "cell_type": "markdown",
   "id": "d16db40d",
   "metadata": {},
   "source": [
    "##### 1. Read in a CSV () and display all the columns and their respective data types"
   ]
  },
  {
   "cell_type": "code",
   "execution_count": 17,
   "id": "916d3d03",
   "metadata": {},
   "outputs": [
    {
     "name": "stdout",
     "output_type": "stream",
     "text": [
      "<class 'pandas.core.frame.DataFrame'>\n",
      "RangeIndex: 7 entries, 0 to 6\n",
      "Data columns (total 4 columns):\n",
      " #   Column  Non-Null Count  Dtype \n",
      "---  ------  --------------  ----- \n",
      " 0   id      7 non-null      int64 \n",
      " 1   sex     7 non-null      object\n",
      " 2   weight  7 non-null      int64 \n",
      " 3   height  7 non-null      int64 \n",
      "dtypes: int64(3), object(1)\n",
      "memory usage: 352.0+ bytes\n",
      "None\n"
     ]
    }
   ],
   "source": [
    "df = pd.read_csv('hw_data.csv')\n",
    "print(df.info())"
   ]
  },
  {
   "cell_type": "markdown",
   "id": "2d078611",
   "metadata": {},
   "source": [
    "##### 2. Find the average weight"
   ]
  },
  {
   "cell_type": "code",
   "execution_count": 18,
   "id": "e4ee5415",
   "metadata": {},
   "outputs": [
    {
     "data": {
      "text/plain": [
       "135.71428571428572"
      ]
     },
     "execution_count": 18,
     "metadata": {},
     "output_type": "execute_result"
    }
   ],
   "source": [
    "df['weight'].mean()"
   ]
  },
  {
   "cell_type": "markdown",
   "id": "3ae99943",
   "metadata": {},
   "source": [
    "##### 3. Find the Value Counts on column sex"
   ]
  },
  {
   "cell_type": "code",
   "execution_count": 19,
   "id": "0bf34058",
   "metadata": {},
   "outputs": [
    {
     "data": {
      "text/plain": [
       "M    3\n",
       "F    3\n",
       "O    1\n",
       "Name: sex, dtype: int64"
      ]
     },
     "execution_count": 19,
     "metadata": {},
     "output_type": "execute_result"
    }
   ],
   "source": [
    "df['sex'].value_counts()"
   ]
  },
  {
   "cell_type": "markdown",
   "id": "15acb45e",
   "metadata": {},
   "source": [
    "##### 4. Plot Height vs. Weight"
   ]
  },
  {
   "cell_type": "code",
   "execution_count": 20,
   "id": "e2d7539b",
   "metadata": {},
   "outputs": [
    {
     "data": {
      "text/plain": [
       "<AxesSubplot:xlabel='height', ylabel='weight'>"
      ]
     },
     "execution_count": 20,
     "metadata": {},
     "output_type": "execute_result"
    },
    {
     "data": {
      "image/png": "[encoded data removed]",
      "text/plain": [
       "<Figure size 432x288 with 1 Axes>"
      ]
     },
     "metadata": {},
     "output_type": "display_data"
    }
   ],
   "source": [
    "df.plot(kind = 'scatter', x = 'height', y = 'weight')"
   ]
  },
  {
   "cell_type": "markdown",
   "id": "6a1b3abb",
   "metadata": {},
   "source": [
    "##### 5. Calculate BMI and save as a new column"
   ]
  },
  {
   "cell_type": "code",
   "execution_count": 21,
   "id": "15d68200",
   "metadata": {},
   "outputs": [
    {
     "name": "stdout",
     "output_type": "stream",
     "text": [
      "   id sex  weight  height       bmi\n",
      "0   1   M     190      77  2.467532\n",
      "1   2   F     120      70  1.714286\n",
      "2   3   F     110      68  1.617647\n",
      "3   4   M     150      72  2.083333\n",
      "4   5   O     120      66  1.818182\n",
      "5   6   M     120      60  2.000000\n",
      "6   7   F     140      70  2.000000\n"
     ]
    }
   ],
   "source": [
    "df['bmi'] = df['weight'] / df['height']\n",
    "\n",
    "print(df)"
   ]
  },
  {
   "cell_type": "markdown",
   "id": "778f9e5b",
   "metadata": {},
   "source": [
    "##### 6. Save sheet as a new CSV file hw_dataB.csv"
   ]
  },
  {
   "cell_type": "code",
   "execution_count": 22,
   "id": "bd32c526",
   "metadata": {},
   "outputs": [],
   "source": [
    "df.to_csv('hw_dataB.csv')"
   ]
  },
  {
   "cell_type": "markdown",
   "id": "682fa18a",
   "metadata": {},
   "source": [
    "##### Run the following"
   ]
  },
  {
   "cell_type": "code",
   "execution_count": 2,
   "id": "58cf36bd",
   "metadata": {},
   "outputs": [
    {
     "name": "stdout",
     "output_type": "stream",
     "text": [
      ",id,sex,weight,height,bmi\n",
      "0,1,M,190,77,2.4675324675324677\n",
      "1,2,F,120,70,1.7142857142857142\n",
      "2,3,F,110,68,1.6176470588235294\n",
      "3,4,M,150,72,2.0833333333333335\n",
      "4,5,O,120,66,1.8181818181818181\n",
      "5,6,M,120,60,2.0\n",
      "6,7,F,140,70,2.0\n"
     ]
    }
   ],
   "source": [
    "!type hw_dataB.csv"
   ]
  }
 ],
 "metadata": {
  "kernelspec": {
   "display_name": "Python 3 (ipykernel)",
   "language": "python",
   "name": "python3"
  },
  "language_info": {
   "codemirror_mode": {
    "name": "ipython",
    "version": 3
   },
   "file_extension": ".py",
   "mimetype": "text/x-python",
   "name": "python",
   "nbconvert_exporter": "python",
   "pygments_lexer": "ipython3",
   "version": "3.9.7"
  }
 },
 "nbformat": 4,
 "nbformat_minor": 5
}
